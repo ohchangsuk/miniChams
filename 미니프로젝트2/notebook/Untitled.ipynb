{
 "cells": [
  {
   "cell_type": "code",
   "execution_count": 1,
   "metadata": {},
   "outputs": [],
   "source": [
    "import pandas as pd"
   ]
  },
  {
   "cell_type": "code",
   "execution_count": 3,
   "metadata": {},
   "outputs": [],
   "source": [
    "df=pd.read_csv('../data/preprocessing_finish_data_200217.csv', encoding='euc-kr')"
   ]
  },
  {
   "cell_type": "code",
   "execution_count": 4,
   "metadata": {},
   "outputs": [
    {
     "name": "stdout",
     "output_type": "stream",
     "text": [
      "<class 'pandas.core.frame.DataFrame'>\n",
      "RangeIndex: 1824 entries, 0 to 1823\n",
      "Data columns (total 10 columns):\n",
      "Season            1824 non-null int64\n",
      "round             1824 non-null object\n",
      "home              1824 non-null object\n",
      "visitor           1824 non-null object\n",
      "hgoal             1824 non-null int64\n",
      "vgoal             1824 non-null int64\n",
      "tothgoal          1824 non-null int64\n",
      "totvgoal          1824 non-null int64\n",
      "totagg_home       1824 non-null int64\n",
      "totagg_visitor    1824 non-null int64\n",
      "dtypes: int64(7), object(3)\n",
      "memory usage: 142.6+ KB\n"
     ]
    }
   ],
   "source": [
    "df.info()"
   ]
  },
  {
   "cell_type": "code",
   "execution_count": null,
   "metadata": {},
   "outputs": [],
   "source": []
  }
 ],
 "metadata": {
  "kernelspec": {
   "display_name": "Python 3.7.4 64-bit ('base': conda)",
   "language": "python",
   "name": "python37464bitbaseconda61131a50b94a406690f4871e45e9acd4"
  },
  "language_info": {
   "codemirror_mode": {
    "name": "ipython",
    "version": 3
   },
   "file_extension": ".py",
   "mimetype": "text/x-python",
   "name": "python",
   "nbconvert_exporter": "python",
   "pygments_lexer": "ipython3",
   "version": "3.7.4"
  }
 },
 "nbformat": 4,
 "nbformat_minor": 2
}
